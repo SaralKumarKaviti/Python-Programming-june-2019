{
 "cells": [
  {
   "cell_type": "code",
   "execution_count": 49,
   "metadata": {},
   "outputs": [
    {
     "data": {
      "text/plain": [
       "0"
      ]
     },
     "execution_count": 49,
     "metadata": {},
     "output_type": "execute_result"
    }
   ],
   "source": [
    "# Function to find the second largest number in a list\n",
    "\n",
    "def secondLargest(li):\n",
    "    # Convert the list into a unique list\n",
    "    # Complexity for single loop -> O(n), two loops -> O(n2)\n",
    "    unique = []\n",
    "    for n in li:\n",
    "        if n not in unique:\n",
    "            unique.append(n)\n",
    "    #print(unique)\n",
    "    unique = sorted(unique, reverse=True)\n",
    "    #print(unique)\n",
    "    return unique[1]\n",
    "\n",
    "def fifthLeast(li):\n",
    "    unique = []\n",
    "    for n in li:\n",
    "        if n not in unique:\n",
    "            unique.append(n)\n",
    "    #print(unique)\n",
    "    unique = sorted(unique)\n",
    "    if len(unique) > 4:\n",
    "        #print(unique)\n",
    "        return unique[4]\n",
    "    else:\n",
    "        return -1\n",
    "\n",
    "def kLargest(li,k):\n",
    "    unique = []\n",
    "    for n in li:\n",
    "        if n not in unique:\n",
    "            unique.append(n)\n",
    "    #print(unique)\n",
    "    unique = sorted(unique, reverse=True)\n",
    "    if k <= len(unique):\n",
    "        #print(unique)\n",
    "        return unique[k-1]\n",
    "    else:\n",
    "        return -1\n",
    "\n",
    "    \n",
    "def kSmallest(li,k):\n",
    "    if len(li) <= 0:\n",
    "        return 0\n",
    "    else:\n",
    "        unique = []\n",
    "        for n in li:\n",
    "            if n not in unique:\n",
    "                unique.append(n)\n",
    "        #print(unique)\n",
    "        unique = sorted(unique)\n",
    "        if k <= len(unique):\n",
    "            #print(unique)\n",
    "            return unique[k-1]\n",
    "        else:\n",
    "            return -1\n",
    "#secondLargest([1,4,6,1,7,9,0,6,4])\n",
    "#fifthLeast([1,4,6,1,7,9,0,6,4])\n",
    "#kLargest([1,4,6,1,7,9,0,6,4],1)\n",
    "kSmallest([],0)"
   ]
  },
  {
   "cell_type": "code",
   "execution_count": 70,
   "metadata": {},
   "outputs": [
    {
     "name": "stdout",
     "output_type": "stream",
     "text": [
      "{1: 2, 2: 2, 3: 2, 9: 1, 8: 1, 7: 1, 4: 1}\n"
     ]
    },
    {
     "data": {
      "text/plain": [
       "1"
      ]
     },
     "execution_count": 70,
     "metadata": {},
     "output_type": "execute_result"
    }
   ],
   "source": [
    "# Function to identify the element with the highest frequency\n",
    "# If many elements have the highest frequency, return the smallest element\n",
    "# highestFrequencyElement([1,2,3,9,8,7,3,4,2,1]) -> 1\n",
    "def highestFrequencyElement(li):\n",
    "    # Extracting unique elements with frequencies\n",
    "    unique = {}\n",
    "    for n in li:\n",
    "        if n in unique:\n",
    "            unique[n] += 1\n",
    "        else:\n",
    "            unique[n] = 1\n",
    "    print(unique)        \n",
    "    # Getting all Frequencies into a list\n",
    "    freq = unique.values()\n",
    "    maxfreq = max(freq)\n",
    "    maxfreqE = []\n",
    "    # print(maxfreq)\n",
    "    # Identify the smallest number with maximum frequency\n",
    "    for item in unique.items():\n",
    "        if item[1] == maxfreq:\n",
    "            maxfreqE.append(item[0])\n",
    "     # Select the minimum from the keys with maximum frequency       \n",
    "    return min(maxfreqE) # minfreqE[k-1]\n",
    "    #maxfreqE = max(sorted(maxfreqE,reverse=True))\n",
    "    #return maxfreqE[3-1]\n",
    "highestFrequencyElement([1,2,3,9,8,7,3,4,2,1])\n",
    "    "
   ]
  },
  {
   "cell_type": "code",
   "execution_count": 1,
   "metadata": {},
   "outputs": [
    {
     "name": "stdout",
     "output_type": "stream",
     "text": [
      "{1: 2, 2: 2, 3: 2, 9: 1, 8: 1, 7: 1, 4: 1}\n"
     ]
    },
    {
     "data": {
      "text/plain": [
       "1"
      ]
     },
     "execution_count": 1,
     "metadata": {},
     "output_type": "execute_result"
    }
   ],
   "source": [
    "# Function to identify the element with the highest frequency\n",
    "# If many elements have the highest frequency, return the smallest element\n",
    "# highestFrequencyElement([1,2,3,9,8,7,3,4,2,1]) -> 1\n",
    "def highestFrequencyElement(li):\n",
    "    # Extracting unique elements with frequencies\n",
    "    unique = {}\n",
    "    for n in li:\n",
    "        if n in unique:\n",
    "            unique[n] += 1\n",
    "        else:\n",
    "            unique[n] = 1\n",
    "    print(unique)\n",
    "    maxfreq = max(unique.values())\n",
    "    # Extract all keys with maxfreq in a list\n",
    "    maxfreqkeys = []\n",
    "    for item in unique.items():\n",
    "        # item -> (key, value)\n",
    "        # item[1] -> value\n",
    "        if item[1] == maxfreq:\n",
    "            maxfreqkeys.append(item[0])\n",
    "    return min(maxfreqkeys)\n",
    "    \n",
    "highestFrequencyElement([1,2,3,9,8,7,3,4,2,1])   "
   ]
  },
  {
   "cell_type": "code",
   "execution_count": null,
   "metadata": {},
   "outputs": [],
   "source": [
    "# Largest number in a list\n",
    "# secong largest number on a list\n",
    "# kth largest number in a list\n",
    "\n",
    "\n",
    "# Element with highest frequency\n",
    "# second highest freqency\n",
    "# Kth highest frequency\n",
    "\n",
    "\n",
    "t=int(input())"
   ]
  },
  {
   "cell_type": "code",
   "execution_count": 22,
   "metadata": {},
   "outputs": [
    {
     "data": {
      "text/plain": [
       "7"
      ]
     },
     "execution_count": 22,
     "metadata": {},
     "output_type": "execute_result"
    }
   ],
   "source": [
    "## function to find the second largest number\n",
    "\n",
    "\n",
    "def secondLargest(li):\n",
    "    # convert the list into a unique list\n",
    "    unique=[]\n",
    "    for n in li:\n",
    "        if n not in unique:\n",
    "            unique.append(n)\n",
    "            \n",
    "    unique= sorted(unique,reverse=True)\n",
    "    return unique[1]\n",
    "secondLargest([1,2,3,4,2,5,8,7,1,2,4,8,8])"
   ]
  },
  {
   "cell_type": "code",
   "execution_count": 21,
   "metadata": {},
   "outputs": [
    {
     "data": {
      "text/plain": [
       "-1"
      ]
     },
     "execution_count": 21,
     "metadata": {},
     "output_type": "execute_result"
    }
   ],
   "source": [
    "def fifthLeast(li):\n",
    "    unique=[]\n",
    "    for n in li:\n",
    "        if n not in unique:\n",
    "            unique.append(n)\n",
    "            \n",
    "    unique= sorted(unique)\n",
    "    try:\n",
    "        return unique[4]\n",
    "    except:\n",
    "        return -1\n",
    "        \n",
    "fifthLeast([1])"
   ]
  },
  {
   "cell_type": "code",
   "execution_count": 20,
   "metadata": {},
   "outputs": [
    {
     "data": {
      "text/plain": [
       "7"
      ]
     },
     "execution_count": 20,
     "metadata": {},
     "output_type": "execute_result"
    }
   ],
   "source": [
    "def kLargest(li,k):\n",
    "    unique=[]\n",
    "    for n in li:\n",
    "        if n not in unique:\n",
    "            unique.append(n)\n",
    "            \n",
    "    unique= sorted(unique,reverse=True)\n",
    "    if len(unique)>1:\n",
    "        return unique[k-1]\n",
    "    return -1\n",
    "    \n",
    "    \n",
    "kLargest([1,2,3,4,5,6,7,8,9],3)"
   ]
  },
  {
   "cell_type": "code",
   "execution_count": 19,
   "metadata": {},
   "outputs": [
    {
     "data": {
      "text/plain": [
       "3"
      ]
     },
     "execution_count": 19,
     "metadata": {},
     "output_type": "execute_result"
    }
   ],
   "source": [
    "# Function to identify the element with highest frequency\n",
    "\n",
    "def highestFrequency(li):\n",
    "    unique={}\n",
    "    for n in li:\n",
    "        if n in unique:\n",
    "            unique[n]+=1\n",
    "        else:\n",
    "            unique[n]=1\n",
    "            \n",
    "    # Getting all frequencies into a list\n",
    "    frelist = sorted(unique.values())\n",
    "    maxfre=max(frelist)\n",
    "    sf=[]\n",
    "    for e in unique.items(): \n",
    "        if e[1]==maxfre:\n",
    "            sf.append(e[0])\n",
    "    #return min(sf)\n",
    "    sf=sorted(sf)\n",
    "    return sf[3-1]\n",
    "\n",
    "highestFrequency([1,2,3,9,7,8,3,4,2,1]) # count of the elements having the same frequency count"
   ]
  },
  {
   "cell_type": "code",
   "execution_count": null,
   "metadata": {},
   "outputs": [],
   "source": [
    "def highestFrequencyElement(li):\n",
    "    unique={}\n",
    "    for n in li:\n",
    "        if n in unique:\n",
    "            unique[n]+=1\n",
    "        else:\n",
    "            unique[n]=1\n",
    "            \n",
    "    maxfre=max(unique.values())\n",
    "    \n",
    "    # Extarct all keys with maxfre in a list\n",
    "    maxfrekeys=[]\n",
    "    for item in unique.items():\n",
    "        # item -> (key,value)\n",
    "        # item[1]\n",
    "        if item[1]==maxfre:\n",
    "            maxfrekeys.append(item[0])\n",
    "            \n",
    "    return min(maxfrekeys)\n",
    "        \n",
    "highestFrequencyElement([2,1,3,4,2,3,1,4,2,3,1]) # min ele with max freq"
   ]
  },
  {
   "cell_type": "code",
   "execution_count": 18,
   "metadata": {},
   "outputs": [
    {
     "data": {
      "text/plain": [
       "1"
      ]
     },
     "execution_count": 18,
     "metadata": {},
     "output_type": "execute_result"
    }
   ],
   "source": [
    "# Function to identify the second smallest frequency element\n",
    "# If there are many such elements, return the smallest\n",
    "# [1,2,3,4,9,1,2,4] ->3\n",
    "\n",
    "def secondFrequencyCount(li):\n",
    "    unique={}\n",
    "    for n in li:\n",
    "        if n in unique:\n",
    "            unique[n]+=1\n",
    "        else:\n",
    "            unique[n]=1\n",
    "            \n",
    "    minfre=min(unique.values())\n",
    "    \n",
    "    minfrekeys=[]\n",
    "    for item in unique.items():\n",
    "        # item -> (key,value)\n",
    "        # item[1]\n",
    "        if item[1]==minfre:\n",
    "            minfrekeys.append(item[0])\n",
    "            \n",
    "    return min(minfrekeys)\n",
    "secondFrequencyCount([1,2,3,4,9,2,1,3,4,3,9])"
   ]
  },
  {
   "cell_type": "code",
   "execution_count": null,
   "metadata": {},
   "outputs": [],
   "source": [
    "# Function to identify the kth highest frequency element\n",
    "# If there are many such elements, return the smallest\n",
    "\n",
    "def khighFrequency(li,k):\n",
    "    unique = {}\n",
    "    for n in li:\n",
    "        if n not in unique:\n",
    "            unique[n] = 1\n",
    "        else:\n",
    "            unique[n]+= 1\n",
    "    freq = unique.values()\n",
    "    kfreq = sorted(list(set(freq)))\n",
    "    if k<len(kfreq):\n",
    "        maxfreq = kfreq[-k] #k th highest value\n",
    "    else:\n",
    "        return -1\n",
    "  # print(maxfreq)\n",
    "    maxfreqE = []\n",
    "    for item in unique.items():\n",
    "        if item[1] == maxfreq:\n",
    "            maxfreqE.append(item[0])\n",
    "         #  print(maxfreqE)\n",
    "    maxfreqE = sorted(maxfreqE)\n",
    "    return min(maxfreqE)\n",
    "\n",
    "khighFrequency([9,8,7,6,5,2,3,4,9,6,7,7,7,6,7,6],5)"
   ]
  },
  {
   "cell_type": "code",
   "execution_count": null,
   "metadata": {},
   "outputs": [],
   "source": []
  },
  {
   "cell_type": "code",
   "execution_count": null,
   "metadata": {},
   "outputs": [],
   "source": []
  }
 ],
 "metadata": {
  "kernelspec": {
   "display_name": "Python 3",
   "language": "python",
   "name": "python3"
  },
  "language_info": {
   "codemirror_mode": {
    "name": "ipython",
    "version": 3
   },
   "file_extension": ".py",
   "mimetype": "text/x-python",
   "name": "python",
   "nbconvert_exporter": "python",
   "pygments_lexer": "ipython3",
   "version": "3.7.3"
  }
 },
 "nbformat": 4,
 "nbformat_minor": 2
}
