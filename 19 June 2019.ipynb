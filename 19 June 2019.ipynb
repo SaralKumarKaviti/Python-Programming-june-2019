{
 "cells": [
  {
   "cell_type": "markdown",
   "metadata": {},
   "source": [
    "### Seating Arrangement\n",
    "\n",
    "Akash and Vishal are quite fond of travelling. They mostly travel by railways. They were travelling in a train one day and they got interested in the seating arrangement of their compartment. The compartment looked something like\n",
    "\n",
    "<img src=\"https://he-s3.s3.amazonaws.com/media/uploads/a2e0794.jpg\">\n",
    "\n",
    "So they got interested to know the seat number facing them and the seat type facing them. The seats are denoted as follows : \n",
    "\n",
    "**Window Seat** : WS <br>\n",
    "**Middle Seat** : MS <br>\n",
    "**Aisle Seat** : AS <br>\n",
    "\n",
    "You will be given a seat number, find out the seat number facing you and the seat type, i.e. WS, MS or AS.\n",
    "\n",
    "*INPUT*\n",
    "\n",
    "First line of input will consist of a single integer T denoting number of test-cases. Each test-case consists of a single integer N denoting the seat-number.\n",
    "\n",
    "*OUTPUT*\n",
    "\n",
    "For each test case, print the facing seat-number and the seat-type, separated by a single space in a new line.\n",
    "\n",
    "*CONSTRAINTS*\n",
    "\n",
    "1<=T<=105 <br>\n",
    "1<=N<=108\n"
   ]
  },
  {
   "cell_type": "code",
   "execution_count": 18,
   "metadata": {},
   "outputs": [
    {
     "name": "stdout",
     "output_type": "stream",
     "text": [
      "Enter seat number:56\n",
      "Enter test case 1-12:4\n",
      "MS 8\n"
     ]
    }
   ],
   "source": [
    "n=int(input(\"Enter seat number:\"))\n",
    "t=int(input(\"Enter test case 1-12:\"))\n",
    "\n",
    "for i in range(1,t-1):\n",
    "    ch=n%12\n",
    "    if ch==1:\n",
    "        fs=n+11\n",
    "        print(\"WS\",fs)\n",
    "        break\n",
    "    elif ch==2:\n",
    "        fs=n+9\n",
    "        print(\"MS\",fs)\n",
    "        break\n",
    "    \n",
    "    elif ch==3:\n",
    "        fs=n+7\n",
    "        print(\"AS\",fs)\n",
    "        break\n",
    "        \n",
    "    elif ch==4:\n",
    "        fs=n+5\n",
    "        print(\"WS\",fs)\n",
    "        break\n",
    "    elif ch==5:\n",
    "        fs=n+3\n",
    "        print(\"MS\",fs)\n",
    "        break\n",
    "        \n",
    "    elif ch==6:\n",
    "        fs=n+1\n",
    "        print(\"AS\",fs)\n",
    "        break\n",
    "        \n",
    "    elif ch==7:\n",
    "        fs=n-1\n",
    "        print(\"AS\",fs)\n",
    "        break\n",
    "        \n",
    "    elif ch==8:\n",
    "        fs=n-3\n",
    "        print(\"MS\",ch)\n",
    "        break\n",
    "        \n",
    "    elif ch==9:\n",
    "        fs=n-5\n",
    "        print(\"WS\",fs)\n",
    "        break\n",
    "        \n",
    "    elif ch==10:\n",
    "        fs=n-7\n",
    "        print(\"AS\",fs)\n",
    "        break\n",
    "        \n",
    "    elif ch==11:\n",
    "        fs=n-9\n",
    "        print(\"MS\",fs)\n",
    "        break\n",
    "    elif ch==0:\n",
    "        fs=n-11\n",
    "        print(\"WS\",fs)\n",
    "        \n",
    "    else:\n",
    "        print(\"Seats are not available\")\n",
    "    \n",
    "        \n",
    "    \n",
    "    "
   ]
  },
  {
   "cell_type": "code",
   "execution_count": 1,
   "metadata": {},
   "outputs": [
    {
     "data": {
      "text/plain": [
       "10"
      ]
     },
     "execution_count": 1,
     "metadata": {},
     "output_type": "execute_result"
    }
   ],
   "source": [
    "a=(1*10)%(10^9+7)\n",
    "a"
   ]
  },
  {
   "cell_type": "code",
   "execution_count": 3,
   "metadata": {},
   "outputs": [
    {
     "name": "stdout",
     "output_type": "stream",
     "text": [
      "98\n",
      "hello 98\n"
     ]
    }
   ],
   "source": [
    "a=int(input())\n",
    "while a!=42:\n",
    "    print(\"hello\",a)\n",
    "    break"
   ]
  },
  {
   "cell_type": "code",
   "execution_count": 10,
   "metadata": {},
   "outputs": [
    {
     "name": "stdout",
     "output_type": "stream",
     "text": [
      "Upload another\n"
     ]
    }
   ],
   "source": [
    "def photo(h,w,l):\n",
    "    if w>l or h>l:\n",
    "        print('Upload another')\n",
    "    else:\n",
    "        if w==h:\n",
    "            print('Accepted')\n",
    "        else:\n",
    "            print('Crop it')\n",
    "photo(180,100,120)\n",
    "        \n",
    "    "
   ]
  },
  {
   "cell_type": "code",
   "execution_count": null,
   "metadata": {},
   "outputs": [],
   "source": []
  }
 ],
 "metadata": {
  "kernelspec": {
   "display_name": "Python 3",
   "language": "python",
   "name": "python3"
  },
  "language_info": {
   "codemirror_mode": {
    "name": "ipython",
    "version": 3
   },
   "file_extension": ".py",
   "mimetype": "text/x-python",
   "name": "python",
   "nbconvert_exporter": "python",
   "pygments_lexer": "ipython3",
   "version": "3.7.3"
  }
 },
 "nbformat": 4,
 "nbformat_minor": 2
}
