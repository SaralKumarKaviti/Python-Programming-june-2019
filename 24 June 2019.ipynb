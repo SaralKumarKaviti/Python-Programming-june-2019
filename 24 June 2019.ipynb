{
 "cells": [
  {
   "cell_type": "code",
   "execution_count": null,
   "metadata": {},
   "outputs": [],
   "source": [
    "#Find and Replace Application\n",
    "    # Count the total number of occurances of \n",
    "    # If word is existing \n",
    "    # Replace all occurances of \n",
    "    \n",
    "# Marks Analysis Application\n",
    "    # Generate marks file for n students\n",
    "    # Input : Marks text file - each line contains\n",
    "    # Generates a report with the following\n",
    "        # Class Average\n",
    "        # % of students passed\n",
    "        # % of students failed\n",
    "        # % of students with distinctions\n",
    "        # Highest marks frequency\n",
    "        # Lowest marks frequency\n"
   ]
  },
  {
   "cell_type": "code",
   "execution_count": 2,
   "metadata": {},
   "outputs": [],
   "source": [
    "# Function to generate marks data for n students\n",
    "from random import randint\n",
    "def generateMarks(n,lb,ub):\n",
    "    with open('DataFiles/marks.txt','w') as f:\n",
    "        for i in range(0,n):\n",
    "            r=randint(lb,ub)\n",
    "            f.write(str(r)+'\\n')\n",
    "    return\n",
    "generateMarks(10000,0,100)\n",
    "            \n",
    "        \n",
    "    "
   ]
  },
  {
   "cell_type": "code",
   "execution_count": 6,
   "metadata": {},
   "outputs": [
    {
     "data": {
      "text/plain": [
       "49.7144"
      ]
     },
     "execution_count": 6,
     "metadata": {},
     "output_type": "execute_result"
    }
   ],
   "source": [
    "def classAvg(n):\n",
    "    with open('DataFiles/marks.txt') as f:\n",
    "        fh=f.read()\n",
    "        sum=0\n",
    "        for i in fh.split():\n",
    "            sum=sum+int(i)\n",
    "        return sum/n\n",
    "classAvg(10000)\n",
    "            \n",
    "        "
   ]
  },
  {
   "cell_type": "code",
   "execution_count": 33,
   "metadata": {},
   "outputs": [
    {
     "name": "stdout",
     "output_type": "stream",
     "text": [
      "No of passed % 65.25\n",
      "No of failed % 34.75\n"
     ]
    }
   ],
   "source": [
    "def passAndfailPer():\n",
    "    with open('DataFiles/marks.txt') as f:\n",
    "        fh=f.read()\n",
    "        #sum=0\n",
    "        count=0\n",
    "        count1=0\n",
    "        n=10000\n",
    "        for i in fh.split():\n",
    "            if int(i) >=35:\n",
    "                #sum=sum+int(i)\n",
    "                count=count+1\n",
    "            else:\n",
    "                count1=count1+1\n",
    "        print(\"No of passed %\",(count/n)*100)\n",
    "        print(\"No of failed %\",(count1/n)*100)\n",
    "    return\n",
    "passAndfailPer()"
   ]
  },
  {
   "cell_type": "code",
   "execution_count": 34,
   "metadata": {},
   "outputs": [
    {
     "name": "stdout",
     "output_type": "stream",
     "text": [
      "% of students with distinctions 25.4\n"
     ]
    }
   ],
   "source": [
    "def passPer():\n",
    "    with open('DataFiles/marks.txt') as f:\n",
    "        fh=f.read()\n",
    "        #sum=0\n",
    "        count=0\n",
    "        count1=0\n",
    "        n=10000\n",
    "        for i in fh.split():\n",
    "            if int(i) >=75:\n",
    "                #sum=sum+int(i)\n",
    "                count=count+1\n",
    "        print(\"% of students with distinctions\",(count/n)*100)\n",
    "    return\n",
    "passPer()"
   ]
  },
  {
   "cell_type": "code",
   "execution_count": 53,
   "metadata": {},
   "outputs": [
    {
     "name": "stdout",
     "output_type": "stream",
     "text": [
      "Highest Marks Frequency 99 : 87\n"
     ]
    }
   ],
   "source": [
    "def highestMarksFrequency():\n",
    "    with open('DataFiles/marks.txt') as f:\n",
    "        fh=f.read()\n",
    "        count=0\n",
    "        for i in fh.split():\n",
    "            if i==max(fh.split()):\n",
    "                count+=1\n",
    "        print(\"Highest Marks Frequency\",max(fh.split()),\":\",count)\n",
    "    return\n",
    "highestMarksFrequency()"
   ]
  },
  {
   "cell_type": "code",
   "execution_count": 56,
   "metadata": {},
   "outputs": [
    {
     "name": "stdout",
     "output_type": "stream",
     "text": [
      "Lowest marks frequency 0 : 105\n"
     ]
    }
   ],
   "source": [
    "def lowestMarksFrequency():\n",
    "    with open('DataFiles/marks.txt') as f:\n",
    "        fh=f.read()\n",
    "        count=0\n",
    "        for i in fh.split():\n",
    "            if i==min(fh.split()):\n",
    "                count+=1\n",
    "        print(\"Lowest marks frequency\",min(fh.split()),\":\",count)\n",
    "    return\n",
    "lowestMarksFrequency()"
   ]
  },
  {
   "cell_type": "code",
   "execution_count": null,
   "metadata": {},
   "outputs": [],
   "source": []
  }
 ],
 "metadata": {
  "kernelspec": {
   "display_name": "Python 3",
   "language": "python",
   "name": "python3"
  },
  "language_info": {
   "codemirror_mode": {
    "name": "ipython",
    "version": 3
   },
   "file_extension": ".py",
   "mimetype": "text/x-python",
   "name": "python",
   "nbconvert_exporter": "python",
   "pygments_lexer": "ipython3",
   "version": "3.7.3"
  }
 },
 "nbformat": 4,
 "nbformat_minor": 2
}
