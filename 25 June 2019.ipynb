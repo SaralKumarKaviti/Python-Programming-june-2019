{
 "cells": [
  {
   "cell_type": "code",
   "execution_count": 2,
   "metadata": {},
   "outputs": [
    {
     "name": "stdout",
     "output_type": "stream",
     "text": [
      "0 1 3 1 1 0 0 0 0 0 "
     ]
    }
   ],
   "source": [
    "#Digit Frequency problem\n",
    "\n",
    "def uniqueData(allnumbers):\n",
    "    unique=[]\n",
    "    for n in allnumbers:\n",
    "        if n not in unique:\n",
    "            unique.append(n)\n",
    "    return unique\n",
    "\n",
    "def digitFrequency1(s):\n",
    "    allnumbers=[]\n",
    "    for i in s:\n",
    "        if i.isdigit():\n",
    "            allnumbers.append(i)\n",
    "    unique=uniqueData(allnumbers)\n",
    "    for i in range(0,10):\n",
    "        if str(i) not in unique:\n",
    "            print(0, end=\" \")\n",
    "        else:\n",
    "            count=allnumbers.count(str(i))\n",
    "            print(count,end=\" \")\n",
    "digitFrequency1('2314aased22')"
   ]
  },
  {
   "cell_type": "code",
   "execution_count": 5,
   "metadata": {},
   "outputs": [
    {
     "name": "stdout",
     "output_type": "stream",
     "text": [
      "0 1 3 1 1 0 0 0 0 0 "
     ]
    }
   ],
   "source": [
    "# Digit Frequency another way\n",
    "\n",
    "def digitFrequency2(s):\n",
    "    for i in range(0,10):\n",
    "        count=s.count(str(i))\n",
    "        print(count,end=\" \")\n",
    "digitFrequency2('2314aased22')"
   ]
  },
  {
   "cell_type": "code",
   "execution_count": null,
   "metadata": {},
   "outputs": [
    {
     "name": "stdout",
     "output_type": "stream",
     "text": [
      "Search text\n"
     ]
    }
   ],
   "source": [
    "# Find and Replace application\n",
    "    # Count the total number of occurances of a word\n",
    "    # If word is existing \n",
    "    # Replace of all occurances of word another word\n",
    "    \n",
    "import os,sys,fileinput\n",
    "print(\"Search text\")\n",
    "search=input()\n",
    "\n",
    "print(\"Replace text\")\n",
    "replace=input()\n",
    "\n",
    "print(\"Search and replace\")\n",
    "search_replace=input()\n",
    "\n",
    "\n"
   ]
  },
  {
   "cell_type": "markdown",
   "metadata": {},
   "source": [
    "### Exam Tasks"
   ]
  },
  {
   "cell_type": "code",
   "execution_count": 1,
   "metadata": {},
   "outputs": [
    {
     "name": "stdout",
     "output_type": "stream",
     "text": [
      "123322\n",
      "0 1 3 2 0 0 0 0 0 0 "
     ]
    }
   ],
   "source": [
    "# Evaluation Exam 2nd Problem Frequency count of a digit\n",
    "\n",
    "# Input: a11472o5t6 \n",
    "# Output: 0 2 1 0 1 1 1 1 0 0\n",
    "\n",
    "# s = 123abcdef456\n",
    "\n",
    "\n",
    "\n",
    "\n",
    "'''\n",
    "def digitFreq(n):\n",
    "    k=len(n)\n",
    "    if k <= 10:\n",
    "        l=list(n)\n",
    "        print(l)\n",
    "        for i in range(len(l)):\n",
    "            count=0\n",
    "            for j in range(10):\n",
    "                if i == str(j):\n",
    "                    count+=1\n",
    "                else:\n",
    "                    count+=0'''    \n",
    "    \n",
    "def uniqueData(allnumbers):\n",
    "    unique = []\n",
    "    for n in allnumbers:\n",
    "        if n not in unique:\n",
    "            unique.append(n)\n",
    "    return unique\n",
    "\n",
    "def digitFrequency1(s):\n",
    "    allnumbers = []\n",
    "    for i in s:\n",
    "        if i.isdigit():\n",
    "            allnumbers.append(i)\n",
    "    unique = uniqueData(allnumbers)\n",
    "    for i in range(0,10):\n",
    "        if str(i) not in unique:\n",
    "            print(0,end=\" \")\n",
    "        else:\n",
    "            count = allnumbers.count(str(i))\n",
    "            print(count,end=\" \")\n",
    "    \n",
    "n=input()\n",
    "digitFrequency1(n)"
   ]
  },
  {
   "cell_type": "code",
   "execution_count": null,
   "metadata": {},
   "outputs": [],
   "source": []
  }
 ],
 "metadata": {
  "kernelspec": {
   "display_name": "Python 3",
   "language": "python",
   "name": "python3"
  },
  "language_info": {
   "codemirror_mode": {
    "name": "ipython",
    "version": 3
   },
   "file_extension": ".py",
   "mimetype": "text/x-python",
   "name": "python",
   "nbconvert_exporter": "python",
   "pygments_lexer": "ipython3",
   "version": "3.7.3"
  }
 },
 "nbformat": 4,
 "nbformat_minor": 2
}
