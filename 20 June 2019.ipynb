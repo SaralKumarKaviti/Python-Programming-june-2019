{
 "cells": [
  {
   "cell_type": "markdown",
   "metadata": {},
   "source": [
    "### Regular Expressions\n",
    "\n",
    "- Pattern Matching\n",
    "- Symbolic Notation of a pattern\n",
    "    - Pattern : Format which repeats\n",
    "    - Pattern(RE) - Represents the set of all values that are matches that pattern\n",
    "- [0-9] -> Any Digit\n",
    "- [a-z] -> Any lower case Alphabet\n",
    "- [2468]-> All single digit multiples of 2\n",
    "- ^[0-9]{1}$ -> Only single digit number\n",
    "\n",
    "- ^[0-9]{3}$ -> Three digit number\n",
    "\n",
    "- ^([1-9][0-9]*[05])$|^([5]))$        -> All multiples of the 10 in another way\n",
    "\n",
    "-            -> All multiples of 5\n",
    "\n",
    "- [w][o][r][d] or searching for a word\n",
    "\n",
    "- ^[1-9][0-9]{9}$ -> All 10 digit numbers\n",
    "-  ^[6-9][0-9]{9}$|^[0][6-9][0-9]{9}$|^[+][9][1][0-9]{9}          -> Validating Phone number (India)(start with 9876)\n",
    "\n",
    "             -> Email Validation (username@domain.extension)\n",
    "             \n",
    "                 - username\n",
    "                     - Length of usernamr : [6,15]\n",
    "                     - No special characters other than _ or .\n",
    "                     - Should not begin and end with _ or .\n",
    "                     - Character set : all digits and lower case alphabet\n",
    "  \n",
    "                 - domain\n",
    "                     - Length of domain : [3,18]\n",
    "                     - No special characters\n",
    "                     - Character Set : all digits and lower case alphabet\n",
    "                     \n",
    "                 - extension\n",
    "                     - Length of extension : [2, 4]\n",
    "                     - No special characters\n",
    "                     - Character Set : lower case alphabet\n",
    "                    \n",
    "                 - \n",
    "                     \n",
    "                     \n",
    "                 "
   ]
  },
  {
   "cell_type": "code",
   "execution_count": 3,
   "metadata": {},
   "outputs": [
    {
     "ename": "SyntaxError",
     "evalue": "invalid syntax (<ipython-input-3-9a18c2bac4cb>, line 2)",
     "output_type": "error",
     "traceback": [
      "\u001b[1;36m  File \u001b[1;32m\"<ipython-input-3-9a18c2bac4cb>\"\u001b[1;36m, line \u001b[1;32m2\u001b[0m\n\u001b[1;33m    ^[0-9a-z][0-9a-z_.]{4,13}[0-9a-z]$\u001b[0m\n\u001b[1;37m    ^\u001b[0m\n\u001b[1;31mSyntaxError\u001b[0m\u001b[1;31m:\u001b[0m invalid syntax\n"
     ]
    }
   ],
   "source": [
    "\n",
    "^[0-9a-z][0-9a-z_.]{4,13}[0-9a-z]$"
   ]
  },
  {
   "cell_type": "code",
   "execution_count": 4,
   "metadata": {},
   "outputs": [
    {
     "data": {
      "text/plain": [
       "True"
      ]
     },
     "execution_count": 4,
     "metadata": {},
     "output_type": "execute_result"
    }
   ],
   "source": [
    "# Function to validate a phone number\n",
    "import re\n",
    "def phoneNumberValidator(number):\n",
    "    pattern='[6-9][0-9]{9}$|^[0][6-9][0-9]{9}$|^[+][6-9][0-9]{10}$'\n",
    "    if re.search(pattern,str(number)):\n",
    "        return True\n",
    "    return False\n",
    "phoneNumberValidator(7207366926)\n",
    "#print(\"False conditon\")\n",
    "#phoneNumberValidator(72073669261)\n",
    "    "
   ]
  },
  {
   "cell_type": "code",
   "execution_count": 2,
   "metadata": {},
   "outputs": [
    {
     "data": {
      "text/plain": [
       "False"
      ]
     },
     "execution_count": 2,
     "metadata": {},
     "output_type": "execute_result"
    }
   ],
   "source": [
    "# Function to validate a mail\n",
    "import re\n",
    "def emailValidator(email):\n",
    "    pat=\"^[0-9a-z][0-9a-z_.]{4,13}[0-9a-z][@][a-z0-9]{2,18}[.][a-z]{2,4}$\"\n",
    "    if re.match(pat,str(email)):\n",
    "        return True\n",
    "    return False\n",
    "emailValidator(\"#saralkumar238@gmail.com\")"
   ]
  },
  {
   "cell_type": "code",
   "execution_count": 18,
   "metadata": {},
   "outputs": [
    {
     "name": "stdout",
     "output_type": "stream",
     "text": [
      "Invalid phone number\n"
     ]
    }
   ],
   "source": [
    "contacts={}\n",
    "def addContact(name,phone,email):\n",
    "    if name in contacts:\n",
    "        print(name,\"already exists.\")\n",
    "        return\n",
    "    else:\n",
    "        if phoneNumberValidator(phone):\n",
    "            print(\"Invalid phone number\")\n",
    "            return\n",
    "        elif not emailValidator(email):\n",
    "            print(\"Invalid email address\")\n",
    "            return\n",
    "        newContact=[]\n",
    "        newContact.append(phone)\n",
    "        newContact.append(email)\n",
    "        contacts[name]=newContact\n",
    "    \n",
    "        print(\"Contact added\",name)\n",
    "    #if not phoneNumberValidator(phone):\n",
    "        #print(\"Phone number is invalid\")\n",
    "    return\n",
    "addContact(\"saral\",\"9505670442\",\"saral@gmail.com\")\n",
    "  "
   ]
  },
  {
   "cell_type": "code",
   "execution_count": 8,
   "metadata": {},
   "outputs": [
    {
     "name": "stdout",
     "output_type": "stream",
     "text": [
      "saral does not exit\n"
     ]
    }
   ],
   "source": [
    "#Search contacts\n",
    "contacts={}\n",
    "def searchContacts(name):\n",
    "    if name in contacts:\n",
    "        print(name)\n",
    "        print(\"Phone :\", contacts[name][0])\n",
    "        print(\"Email :\", contacts[name][1])\n",
    "    else:\n",
    "        print(\"%s does not exit\" % name)\n",
    "        \n",
    "    return\n",
    "searchContacts(\"saral\")"
   ]
  },
  {
   "cell_type": "code",
   "execution_count": 10,
   "metadata": {},
   "outputs": [
    {
     "name": "stdout",
     "output_type": "stream",
     "text": [
      "1 contacts added\n"
     ]
    },
    {
     "data": {
      "text/plain": [
       "dict_items([('name4', [97534567822, 'saralkumar@gma.com'])])"
      ]
     },
     "execution_count": 10,
     "metadata": {},
     "output_type": "execute_result"
    }
   ],
   "source": [
    "#importing contacts\n",
    "def importContacts(newContacts):\n",
    "    contacts.update(newContacts)\n",
    "    print(len(newContacts.keys()), \"contacts added\")\n",
    "    return\n",
    "newContacts = {\"name4\":[97534567822, \"saralkumar@gma.com\"]}\n",
    "importContacts(newContacts)\n",
    "contacts.items()"
   ]
  },
  {
   "cell_type": "code",
   "execution_count": 13,
   "metadata": {},
   "outputs": [
    {
     "ename": "SyntaxError",
     "evalue": "unexpected EOF while parsing (<ipython-input-13-98743172aa93>, line 5)",
     "output_type": "error",
     "traceback": [
      "\u001b[1;36m  File \u001b[1;32m\"<ipython-input-13-98743172aa93>\"\u001b[1;36m, line \u001b[1;32m5\u001b[0m\n\u001b[1;33m    \u001b[0m\n\u001b[1;37m    ^\u001b[0m\n\u001b[1;31mSyntaxError\u001b[0m\u001b[1;31m:\u001b[0m unexpected EOF while parsing\n"
     ]
    }
   ],
   "source": [
    "# Function to edit contact information\n"
   ]
  },
  {
   "cell_type": "code",
   "execution_count": 12,
   "metadata": {},
   "outputs": [
    {
     "name": "stdout",
     "output_type": "stream",
     "text": [
      "name4 \n",
      " Phone : 97534567822 \n",
      " Email : saralkumar@gma.com\n"
     ]
    }
   ],
   "source": [
    "#Reading contact numbers\n",
    "def listAllContacts():\n",
    "    for contact,info in contacts.items():\n",
    "        print(contact,\"\\n\",\"Phone :\", info[0],\"\\n\",\"Email :\",info[1])\n",
    "    return\n",
    "listAllContacts()\n",
    "        "
   ]
  },
  {
   "cell_type": "markdown",
   "metadata": {},
   "source": [
    "### File Handling in Python\n",
    "\n",
    "File - Document containing information residing on the permanent \n",
    "\n",
    "Types - Text, PDF, CSV etc\n",
    "\n",
    "File I/O - Channelling I/O data to files\n",
    "\n",
    "Default I/O - channels - Keyboard / Screen\n",
    "\n",
    "Change I/O channel to files for reading and writing \n",
    "\n",
    "Read a file - Input\n",
    "Write to a file - Output to a file\n",
    "\n",
    "Read / write file - open(filename,mode)\n"
   ]
  },
  {
   "cell_type": "code",
   "execution_count": 29,
   "metadata": {},
   "outputs": [
    {
     "name": "stdout",
     "output_type": "stream",
     "text": [
      "Line 1\n",
      "Line 2\n",
      "Line 3\n"
     ]
    }
   ],
   "source": [
    "# Function to read a file\n",
    "\n",
    "def readFile(filename):\n",
    "    f=open(filename, 'r')\n",
    "    filedata=f.read()\n",
    "    f.close()\n",
    "    return filedata\n",
    "filename='DataFiles/data.txt'\n",
    "filedata=readFile(filename)\n",
    "for line in filedata.split('\\n'):\n",
    "    print(line)"
   ]
  },
  {
   "cell_type": "code",
   "execution_count": 31,
   "metadata": {},
   "outputs": [
    {
     "name": "stdout",
     "output_type": "stream",
     "text": [
      "Line 1\n",
      "Line 2\n",
      "Line 3"
     ]
    }
   ],
   "source": [
    "def printFileDataLines(filename):\n",
    "    f=open(filename,'r')\n",
    "    for line in f:\n",
    "        print(line,end='')\n",
    "    return\n",
    "printFileDataLines(filename)"
   ]
  },
  {
   "cell_type": "code",
   "execution_count": 32,
   "metadata": {},
   "outputs": [],
   "source": [
    "# Function to write data into a file\n",
    "\n",
    "def writeIntoFile(filename,filedata):\n",
    "    with open(filename,'w') as f:\n",
    "        f.write(filedata)\n",
    "    return\n",
    "filename=\"DataFiles/data.txt\"\n",
    "writeIntoFile(filename,\"new data\")\n",
    "    "
   ]
  },
  {
   "cell_type": "code",
   "execution_count": 34,
   "metadata": {},
   "outputs": [],
   "source": [
    "# Function to append data to a file\n",
    "\n",
    "def appendDataToFile(filename,filedata):\n",
    "    with open(filename,'a') as f:\n",
    "        f.write(filedata)\n",
    "    return\n",
    "filedata=\"Line1\\Line2\"\n",
    "appendDataToFile(filename,filedata)"
   ]
  },
  {
   "cell_type": "code",
   "execution_count": 41,
   "metadata": {},
   "outputs": [
    {
     "ename": "UnsupportedOperation",
     "evalue": "not readable",
     "output_type": "error",
     "traceback": [
      "\u001b[1;31m---------------------------------------------------------------------------\u001b[0m",
      "\u001b[1;31mUnsupportedOperation\u001b[0m                      Traceback (most recent call last)",
      "\u001b[1;32m<ipython-input-41-3ff40cdf22af>\u001b[0m in \u001b[0;36m<module>\u001b[1;34m\u001b[0m\n\u001b[0;32m      5\u001b[0m         \u001b[1;32mreturn\u001b[0m\u001b[1;33m\u001b[0m\u001b[1;33m\u001b[0m\u001b[0m\n\u001b[0;32m      6\u001b[0m \u001b[0mfiledata\u001b[0m\u001b[1;33m=\u001b[0m\u001b[1;34m\"DataFiles/contact.txt\"\u001b[0m\u001b[1;33m\u001b[0m\u001b[1;33m\u001b[0m\u001b[0m\n\u001b[1;32m----> 7\u001b[1;33m \u001b[0mcontactData\u001b[0m\u001b[1;33m(\u001b[0m\u001b[0mfilename\u001b[0m\u001b[1;33m,\u001b[0m\u001b[1;34m\"name1\"\u001b[0m\u001b[1;33m,\u001b[0m\u001b[1;34m\"Saral@gmail.com\"\u001b[0m\u001b[1;33m)\u001b[0m\u001b[1;33m\u001b[0m\u001b[1;33m\u001b[0m\u001b[0m\n\u001b[0m\u001b[0;32m      8\u001b[0m \u001b[1;33m\u001b[0m\u001b[0m\n\u001b[0;32m      9\u001b[0m \u001b[1;33m\u001b[0m\u001b[0m\n",
      "\u001b[1;32m<ipython-input-41-3ff40cdf22af>\u001b[0m in \u001b[0;36mcontactData\u001b[1;34m(filename, name, email)\u001b[0m\n\u001b[0;32m      1\u001b[0m \u001b[1;32mdef\u001b[0m \u001b[0mcontactData\u001b[0m\u001b[1;33m(\u001b[0m\u001b[0mfilename\u001b[0m\u001b[1;33m,\u001b[0m\u001b[0mname\u001b[0m\u001b[1;33m,\u001b[0m\u001b[0memail\u001b[0m\u001b[1;33m)\u001b[0m\u001b[1;33m:\u001b[0m\u001b[1;33m\u001b[0m\u001b[1;33m\u001b[0m\u001b[0m\n\u001b[0;32m      2\u001b[0m     \u001b[1;32mwith\u001b[0m \u001b[0mopen\u001b[0m\u001b[1;33m(\u001b[0m\u001b[0mfilename\u001b[0m\u001b[1;33m,\u001b[0m\u001b[1;34m'a'\u001b[0m\u001b[1;33m)\u001b[0m \u001b[1;32mas\u001b[0m \u001b[0mf\u001b[0m\u001b[1;33m:\u001b[0m\u001b[1;33m\u001b[0m\u001b[1;33m\u001b[0m\u001b[0m\n\u001b[1;32m----> 3\u001b[1;33m         \u001b[1;32mfor\u001b[0m \u001b[0mrow\u001b[0m \u001b[1;32min\u001b[0m \u001b[0mf\u001b[0m\u001b[1;33m:\u001b[0m\u001b[1;33m\u001b[0m\u001b[1;33m\u001b[0m\u001b[0m\n\u001b[0m\u001b[0;32m      4\u001b[0m             \u001b[0mrow\u001b[0m\u001b[1;33m.\u001b[0m\u001b[0mwrite\u001b[0m\u001b[1;33m(\u001b[0m\u001b[0mfilename\u001b[0m\u001b[1;33m)\u001b[0m\u001b[1;33m\u001b[0m\u001b[1;33m\u001b[0m\u001b[0m\n\u001b[0;32m      5\u001b[0m         \u001b[1;32mreturn\u001b[0m\u001b[1;33m\u001b[0m\u001b[1;33m\u001b[0m\u001b[0m\n",
      "\u001b[1;31mUnsupportedOperation\u001b[0m: not readable"
     ]
    }
   ],
   "source": [
    "# add\n",
    "    "
   ]
  },
  {
   "cell_type": "code",
   "execution_count": null,
   "metadata": {},
   "outputs": [],
   "source": []
  }
 ],
 "metadata": {
  "kernelspec": {
   "display_name": "Python 3",
   "language": "python",
   "name": "python3"
  },
  "language_info": {
   "codemirror_mode": {
    "name": "ipython",
    "version": 3
   },
   "file_extension": ".py",
   "mimetype": "text/x-python",
   "name": "python",
   "nbconvert_exporter": "python",
   "pygments_lexer": "ipython3",
   "version": "3.7.3"
  }
 },
 "nbformat": 4,
 "nbformat_minor": 2
}
