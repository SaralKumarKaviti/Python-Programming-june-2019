{
 "cells": [
  {
   "cell_type": "code",
   "execution_count": null,
   "metadata": {},
   "outputs": [],
   "source": [
    "# Problem: Play with numbers\n",
    "\n",
    "# line 1: array size(n), no of quries(q)\n",
    "# line 2: n array elements \n",
    "# next q lines: query-sub array of the origin\n",
    "\n",
    "# 5 2\n",
    "# 1 2 3 4 5\n",
    "# 1 3\n",
    "# 2 4\n",
    "# 2 5\n",
    "\n",
    "n=input().split()\n",
    "n[0],n[1]=int(n[0]),int(n[1])\n",
    "\n",
    "a=input().split()\n",
    "sum=[] # initislize cumulative sum array\n",
    "\n",
    "#Cumulative Sum\n",
    "for i in range(0,n[0]):\n",
    "    if i==0:\n",
    "        sum.append(int(a[i]))\n",
    "    else:\n",
    "        sum.append(int(sum[i-1])+ int(a[i]))  #first element\n",
    "\n",
    "del a\n",
    "\n",
    "q=[]\n",
    "for k in range(0,n[1]):\n",
    "    inq=input().split()\n",
    "    i=int(inq[0])\n",
    "    j=int(inq[1])\n",
    "    if i > 1:\n",
    "        print((sum[j-1]-sum[i-2]) //(j-i+1))\n",
    "    else:\n",
    "        print((sum[j-1]) // (j-i+1))\n",
    "        \n",
    "    \n",
    "#print(sum[n[0]-1])"
   ]
  },
  {
   "cell_type": "code",
   "execution_count": 2,
   "metadata": {},
   "outputs": [
    {
     "name": "stdout",
     "output_type": "stream",
     "text": [
      "2\n",
      "3\n",
      "6\n",
      "YES\n",
      "3\n",
      "5\n"
     ]
    }
   ],
   "source": [
    "# Special Number\n",
    "# Write a program to determine wheater a number  N is a spical number\n",
    "\n",
    "# input formate\n",
    "# First line: P\n",
    "#Second line: T\n",
    "#Next T lines: N\n",
    "\n",
    "# Output\n",
    "# For each test case, print YES or No depenidng on the result\n",
    "\n",
    "# Function to determine if a number is special number or not\n",
    "def isSpecialNumber(n,p):\n",
    "    if numberOfPrimeFactors(n) >= p:\n",
    "        return True\n",
    "    return False\n",
    "\n",
    "def isPrime(n):\n",
    "    flag=1\n",
    "    if n==2:\n",
    "        return True\n",
    "    for i in range(2,n//2+1):\n",
    "        if n%1==0:\n",
    "            flag=0\n",
    "            return False\n",
    "    if flag==1:\n",
    "        return True\n",
    "    return\n",
    "#isPrime()\n",
    "# Function to check if number is prime\n",
    "def numberOfPrimeFactors(n):\n",
    "    if isPrime(n):\n",
    "        return 1\n",
    "    count=0\n",
    "    for i in range(2,n//2+1):\n",
    "        if isPrime(i) and n%i==0:\n",
    "            count+=1\n",
    "    return count\n",
    "\n",
    "#isSpecialNumber(7,2)\n",
    "def solution2():\n",
    "    p=int(input())\n",
    "    t=int(input())\n",
    "    for i in range(0,t):\n",
    "        n=int(input())\n",
    "        if isSpecialNumber(n,p):\n",
    "            print(\"YES\")\n",
    "solution2()\n",
    "# Function to determine number of Prime Factors for a given number"
   ]
  },
  {
   "cell_type": "markdown",
   "metadata": {},
   "source": [
    "### Tuples\n",
    "\n",
    "Difference between Lists and Tuples\n",
    "\n",
    "Lists are mutable - can be changed / modified\n",
    " - Used to access,Modify, Add, Delete data\n",
    "\n",
    "Tuples are immutable - Cannot be changed once initialised \n",
    " - Used to acess data only"
   ]
  },
  {
   "cell_type": "code",
   "execution_count": 4,
   "metadata": {},
   "outputs": [
    {
     "data": {
      "text/plain": [
       "(8, 6, 0)"
      ]
     },
     "execution_count": 4,
     "metadata": {},
     "output_type": "execute_result"
    }
   ],
   "source": [
    "t1=(1,2,8,6,0)\n",
    "t1[3] # Accessing the fourth element\n",
    "t1[len(t1)//2:] # Accessing all elements from "
   ]
  },
  {
   "cell_type": "code",
   "execution_count": 5,
   "metadata": {},
   "outputs": [
    {
     "data": {
      "text/plain": [
       "tuple"
      ]
     },
     "execution_count": 5,
     "metadata": {},
     "output_type": "execute_result"
    }
   ],
   "source": [
    "type(t1)"
   ]
  },
  {
   "cell_type": "markdown",
   "metadata": {},
   "source": [
    "### Dictionaries\n",
    "\n",
    "It works on the concept of set\n",
    "Unique Data\n",
    "\n",
    "Keys, Values\n",
    "Key is the unique identifier for a value\n",
    "Value is data that can be accessed with a key"
   ]
  },
  {
   "cell_type": "code",
   "execution_count": 14,
   "metadata": {},
   "outputs": [
    {
     "data": {
      "text/plain": [
       "{'k1': 'value1', 'k2': 'value2', 'k3': 'value4'}"
      ]
     },
     "execution_count": 14,
     "metadata": {},
     "output_type": "execute_result"
    }
   ],
   "source": [
    "d1={\"k1\":\"value1\",\"k2\":\"value2\"}\n",
    "d1[\"k2\"]\n",
    "d1.keys() # Accessing the value with key \"k2\"\n",
    "d1.values() # Returns list of all keys\n",
    "d1.items() # returns list of all values\n",
    "#help(dict) # returns list of tuples of keys and values\n",
    "d1[\"k3\"]=\"values3\"\n",
    "d1[\"k3\"]=\"value4\"\n",
    "d1"
   ]
  },
  {
   "cell_type": "markdown",
   "metadata": {},
   "source": [
    "## Contacts Application\n",
    "- Add Contact\n",
    "- Search for Contact\n",
    "- List all Contacts\n",
    "    - name1 : phone1\n",
    "    - name2 : phone2\n",
    "- Modify Contact\n",
    "- Delete Contact"
   ]
  },
  {
   "cell_type": "code",
   "execution_count": 12,
   "metadata": {},
   "outputs": [
    {
     "name": "stdout",
     "output_type": "stream",
     "text": [
      "name added\n"
     ]
    }
   ],
   "source": [
    "contacts={}\n",
    "\n",
    "def addContact(name,phone):\n",
    "    # Verify that the contact does not already exits then add\n",
    "    if name not in contacts:\n",
    "        contacts[name]=phone\n",
    "        print(\"name added\")\n",
    "    else:\n",
    "        print(\"Contact %s already exists\",name)\n",
    "    return\n",
    "addContact(\"Saral\",\"7207366926\")\n"
   ]
  },
  {
   "cell_type": "code",
   "execution_count": 13,
   "metadata": {},
   "outputs": [],
   "source": [
    "def searchContact(name):\n",
    "    if name in contacts:\n",
    "        print(name,\":\",contacts[name])\n",
    "    else:\n",
    "        print(\"does not exis\")"
   ]
  },
  {
   "cell_type": "code",
   "execution_count": 14,
   "metadata": {},
   "outputs": [
    {
     "data": {
      "text/plain": [
       "{'Saral': '7207366926'}"
      ]
     },
     "execution_count": 14,
     "metadata": {},
     "output_type": "execute_result"
    }
   ],
   "source": [
    "contacts"
   ]
  },
  {
   "cell_type": "code",
   "execution_count": 25,
   "metadata": {},
   "outputs": [
    {
     "name": "stdout",
     "output_type": "stream",
     "text": [
      "2 Contacts are added\n"
     ]
    }
   ],
   "source": [
    "# New contacts is given as a dictionary\n",
    "# Merge  new contacts with exisiting contacts\n",
    "\n",
    "def importContact(newContacts):\n",
    "    contacts.update(newContacts)\n",
    "    print(len(newContacts.keys()),\"Contacts are added\")\n",
    "    return\n",
    "newContacts={\"name2\":\"7981956619\",\"name3\":\"9505670442\"}\n",
    "importContact(newContacts)"
   ]
  },
  {
   "cell_type": "code",
   "execution_count": 20,
   "metadata": {},
   "outputs": [
    {
     "name": "stdout",
     "output_type": "stream",
     "text": [
      "not a key\n"
     ]
    }
   ],
   "source": [
    "def modifyContact(name):\n",
    "    if name in contacts:\n",
    "        if names==name:\n",
    "            contacts[names]=\"9929992999\"\n",
    "        print(\"modified\")\n",
    "    else:\n",
    "        print(\"not modified\")\n",
    "    return"
   ]
  },
  {
   "cell_type": "code",
   "execution_count": 26,
   "metadata": {},
   "outputs": [
    {
     "data": {
      "text/plain": [
       "{'Saral': '7207366926', 'name2': '7981956619', 'name3': '9505670442'}"
      ]
     },
     "execution_count": 26,
     "metadata": {},
     "output_type": "execute_result"
    }
   ],
   "source": [
    "contacts"
   ]
  },
  {
   "cell_type": "code",
   "execution_count": 2,
   "metadata": {},
   "outputs": [],
   "source": [
    "def removeContact(name):\n",
    "    if name in contacts:\n",
    "        contacts.pop(\"name\")\n",
    "        print(\"remove\")\n",
    "    return"
   ]
  },
  {
   "cell_type": "markdown",
   "metadata": {},
   "source": [
    "### Packages and Modules\n",
    "\n",
    "**Package**--> Collection of modules(Python file .py) and subpackages <br>\n",
    "**Sub Packages** --> <br>\n",
    "**Module** --> A single python file <br>\n",
    "Package -> Subpackage -> Modules -> Function"
   ]
  },
  {
   "cell_type": "code",
   "execution_count": 3,
   "metadata": {},
   "outputs": [
    {
     "data": {
      "text/plain": [
       "123"
      ]
     },
     "execution_count": 3,
     "metadata": {},
     "output_type": "execute_result"
    }
   ],
   "source": [
    "import math\n",
    "math.floor(123.456)"
   ]
  },
  {
   "cell_type": "code",
   "execution_count": 3,
   "metadata": {},
   "outputs": [],
   "source": [
    "# Function to generate N Random numbers\n",
    "\n",
    "import random\n",
    "def generateNRandomNumbers(n,lb,ub):\n",
    "    for i in range(0,n):\n",
    "        random.randint(lb,ub)\n",
    "generateNRandomNumbers(10,0,100)"
   ]
  },
  {
   "cell_type": "code",
   "execution_count": 6,
   "metadata": {},
   "outputs": [
    {
     "data": {
      "text/plain": [
       "True"
      ]
     },
     "execution_count": 6,
     "metadata": {},
     "output_type": "execute_result"
    }
   ],
   "source": [
    "from Packages import numerical\n",
    "numerical.numberOfPrimeFactors(8)\n",
    "numerical.isPrime(103)"
   ]
  },
  {
   "cell_type": "code",
   "execution_count": null,
   "metadata": {},
   "outputs": [],
   "source": []
  }
 ],
 "metadata": {
  "kernelspec": {
   "display_name": "Python 3",
   "language": "python",
   "name": "python3"
  },
  "language_info": {
   "codemirror_mode": {
    "name": "ipython",
    "version": 3
   },
   "file_extension": ".py",
   "mimetype": "text/x-python",
   "name": "python",
   "nbconvert_exporter": "python",
   "pygments_lexer": "ipython3",
   "version": "3.7.3"
  }
 },
 "nbformat": 4,
 "nbformat_minor": 2
}
