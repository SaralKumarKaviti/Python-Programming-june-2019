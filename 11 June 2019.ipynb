{
 "cells": [
  {
   "cell_type": "markdown",
   "metadata": {},
   "source": [
    "# Markdown Basics\n",
    "\n",
    "* **Bold** <br>\n",
    "* *Italic* <br>\n",
    "* ***IB***\n",
    "* Normal text\n",
    "    * Sublist 1\n",
    "    * Sublist 2\n",
    "\n",
    "\n",
    "1. Ordered list element 1\n",
    "2. Ordered list element 2\n",
    "\n",
    "### Images\n",
    "\n",
    "[python logo](python.png)\n",
    "\n",
    "- [ ] Option 1\n",
    "- [ ] Option 2\n",
    "- [x] Option 3\n",
    "\n",
    "<img src=\"python.png\" align=\"right\">"
   ]
  },
  {
   "cell_type": "code",
   "execution_count": null,
   "metadata": {},
   "outputs": [],
   "source": []
  },
  {
   "cell_type": "markdown",
   "metadata": {},
   "source": [
    "## Python Basics\n",
    "\n",
    "Python 3.7"
   ]
  },
  {
   "cell_type": "code",
   "execution_count": 7,
   "metadata": {},
   "outputs": [
    {
     "name": "stdout",
     "output_type": "stream",
     "text": [
      "Hello world ! Hello Python\n"
     ]
    }
   ],
   "source": [
    "# Python comments\n",
    "print('Hello world','!', end=\" \")\n",
    "print('Hello Python')"
   ]
  },
  {
   "cell_type": "markdown",
   "metadata": {},
   "source": [
    "## Assignment"
   ]
  },
  {
   "cell_type": "code",
   "execution_count": 11,
   "metadata": {},
   "outputs": [
    {
     "name": "stdout",
     "output_type": "stream",
     "text": [
      "1 2 3\n"
     ]
    }
   ],
   "source": [
    "n1=1234 # Single variable assignment\n",
    "\n",
    "n2=n3=n4=n1 # Multi Variable assignment\n",
    "\n",
    "a,b,c=1,2,3\n",
    "\n",
    "print(a,b,c)\n"
   ]
  },
  {
   "cell_type": "markdown",
   "metadata": {},
   "source": [
    "## Data Types & Type Conversions\n",
    "- int\n",
    "- string\n",
    "- float\n"
   ]
  },
  {
   "cell_type": "code",
   "execution_count": 17,
   "metadata": {},
   "outputs": [
    {
     "data": {
      "text/plain": [
       "12.0"
      ]
     },
     "execution_count": 17,
     "metadata": {},
     "output_type": "execute_result"
    }
   ],
   "source": [
    "type(a)\n",
    "s1=\"Python\"\n",
    "type(s1)\n",
    "\n",
    "f1=12.745\n",
    "type(f1)\n",
    "\n",
    "float(str(int(f1)))\n"
   ]
  },
  {
   "cell_type": "markdown",
   "metadata": {},
   "source": [
    "# Arithmetic\n",
    "\n",
    "- +\n",
    "- -\n",
    "- *\n",
    "- /\n",
    "- **\n",
    "- %\n",
    "- //"
   ]
  },
  {
   "cell_type": "code",
   "execution_count": 21,
   "metadata": {},
   "outputs": [
    {
     "name": "stdout",
     "output_type": "stream",
     "text": [
      "123\n"
     ]
    },
    {
     "data": {
      "text/plain": [
       "10000000000000000000000000000000000000000000000000000000000000000000000000000000000"
      ]
     },
     "execution_count": 21,
     "metadata": {},
     "output_type": "execute_result"
    }
   ],
   "source": [
    "n1=123\n",
    "print(n1)\n",
    "n1\n",
    "atoms= 10 ** 82\n",
    "atoms"
   ]
  },
  {
   "cell_type": "markdown",
   "metadata": {},
   "source": [
    "## Conditionals"
   ]
  },
  {
   "cell_type": "code",
   "execution_count": 32,
   "metadata": {},
   "outputs": [
    {
     "name": "stdout",
     "output_type": "stream",
     "text": [
      "False\n"
     ]
    }
   ],
   "source": [
    "if atoms < 10 ** 9:\n",
    "    print(\"True\")\n",
    "else:\n",
    "    print(\"False\")\n",
    "    "
   ]
  },
  {
   "cell_type": "code",
   "execution_count": 33,
   "metadata": {},
   "outputs": [
    {
     "name": "stdout",
     "output_type": "stream",
     "text": [
      "odd\n"
     ]
    }
   ],
   "source": [
    "# Check if a number is Even\n",
    "\n",
    "n=123\n",
    "if n%2==0:\n",
    "    print(\"even\")\n",
    "else:\n",
    "    print(\"odd\")"
   ]
  },
  {
   "cell_type": "code",
   "execution_count": 36,
   "metadata": {},
   "outputs": [
    {
     "name": "stdout",
     "output_type": "stream",
     "text": [
      "Enter n1:-1\n",
      "Enter n2:-100\n",
      "Enter n2:-50\n",
      "-1 is greatest \n"
     ]
    }
   ],
   "source": [
    "# find greatest of number\n",
    "\n",
    "n1=int(input(\"Enter n1:\"))\n",
    "n2=int(input(\"Enter n2:\"))\n",
    "n3=int(input(\"Enter n2:\"))\n",
    "\n",
    "if n1>n2 and n1>n3:\n",
    "    print(n1, \"is greatest \")\n",
    "elif n2>n3:\n",
    "    print(n2,\"is greatest\")\n",
    "else:\n",
    "    print(n3,\"is greatest\")\n"
   ]
  },
  {
   "cell_type": "code",
   "execution_count": 39,
   "metadata": {},
   "outputs": [
    {
     "name": "stdout",
     "output_type": "stream",
     "text": [
      "Enter year2011\n",
      "non leap year\n"
     ]
    }
   ],
   "source": [
    "# find leap year\n",
    "\n",
    "year=int(input(\"Enter year\"))\n",
    "\n",
    "if year%4==0 and year%100==0 and year%400==0:\n",
    "    print(\"leap year\")\n",
    "else:\n",
    "    print(\"non leap year\")"
   ]
  },
  {
   "cell_type": "code",
   "execution_count": 2,
   "metadata": {},
   "outputs": [
    {
     "name": "stdout",
     "output_type": "stream",
     "text": [
      "Enter n1:5\n",
      "Enter lb:10\n",
      "Enter ub:15\n",
      "5 is existed so it is false\n"
     ]
    }
   ],
   "source": [
    "n1=int(input(\"Enter n1:\"))\n",
    "lb=int(input(\"Enter lb:\"))\n",
    "ub=int(input(\"Enter ub:\"))\n",
    "\n",
    "if n1>=lb and n1<=ub: \n",
    "\n",
    "    print(n1,\"is existed so it is true\")\n",
    "else:\n",
    "    print(n1,\"is existed so it is false\")"
   ]
  },
  {
   "cell_type": "code",
   "execution_count": 18,
   "metadata": {},
   "outputs": [
    {
     "name": "stdout",
     "output_type": "stream",
     "text": [
      "Enter n:10\n",
      "factor\n"
     ]
    }
   ],
   "source": [
    "# check if a number is a mutiple of 10\n",
    "n=int(input(\"Enter n:\"))\n",
    "if n%10==0:\n",
    "    print(\"factor\")\n",
    "else:\n",
    "    print(\"not factor\")"
   ]
  },
  {
   "cell_type": "code",
   "execution_count": 4,
   "metadata": {},
   "outputs": [],
   "source": [
    "# check id a number is factor of 1000\n",
    "n1=int(input(\"Enter n1:\"))\n",
    "if 1000 % n1==0:\n",
    "    print(n1,\"is not a factor\")\n",
    "else:\n",
    "    print(\"factor\")"
   ]
  },
  {
   "cell_type": "code",
   "execution_count": 5,
   "metadata": {},
   "outputs": [],
   "source": [
    "# Calculate the number of digits in a number\n",
    "n=1234\n",
    "res=len(str(n))\n",
    "print(res)"
   ]
  },
  {
   "cell_type": "code",
   "execution_count": 10,
   "metadata": {},
   "outputs": [
    {
     "name": "stdout",
     "output_type": "stream",
     "text": [
      "Enter string:123\n",
      "Enter number:123\n",
      "true\n"
     ]
    }
   ],
   "source": [
    "# check if given string is equal to a number\n",
    "\n",
    "s=input(\"Enter string:\")\n",
    "n=int(input(\"Enter number:\"))\n",
    "\n",
    "if s==str(n):\n",
    "    print(\"true\")\n",
    "else:\n",
    "    print(\"false\")\n"
   ]
  },
  {
   "cell_type": "code",
   "execution_count": 19,
   "metadata": {},
   "outputs": [
    {
     "name": "stdout",
     "output_type": "stream",
     "text": [
      "Enter number:64\n",
      "8.0\n"
     ]
    }
   ],
   "source": [
    "#cal the square root of a number with using function\n",
    "n=int(input(\"Enter number:\"))\n",
    "\n",
    "sqr= n ** 0.5\n",
    "print(sqr)"
   ]
  },
  {
   "cell_type": "code",
   "execution_count": 29,
   "metadata": {},
   "outputs": [
    {
     "name": "stdout",
     "output_type": "stream",
     "text": [
      "Enter year:2016\n",
      "31622400000000000\n"
     ]
    }
   ],
   "source": [
    "# calculate the number of nano sec in a given year(considering leap year)\n",
    "\n",
    "year1=int(input(\"Enter year:\"))\n",
    "if year1%400==0 or(year1%100 !=0 and year1%4==0):\n",
    "    a=int(366*24*60*60*(10**9))\n",
    "    print(a)\n",
    "else:\n",
    "    b=int(365*24*60*60*(10**9))\n",
    "    print(b)"
   ]
  },
  {
   "cell_type": "code",
   "execution_count": null,
   "metadata": {},
   "outputs": [],
   "source": []
  }
 ],
 "metadata": {
  "kernelspec": {
   "display_name": "Python 3",
   "language": "python",
   "name": "python3"
  },
  "language_info": {
   "codemirror_mode": {
    "name": "ipython",
    "version": 3
   },
   "file_extension": ".py",
   "mimetype": "text/x-python",
   "name": "python",
   "nbconvert_exporter": "python",
   "pygments_lexer": "ipython3",
   "version": "3.7.3"
  }
 },
 "nbformat": 4,
 "nbformat_minor": 2
}
