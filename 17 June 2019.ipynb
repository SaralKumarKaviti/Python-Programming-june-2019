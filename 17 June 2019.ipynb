{
 "cells": [
  {
   "cell_type": "markdown",
   "metadata": {},
   "source": [
    "# Hacker Earth Problems\n"
   ]
  },
  {
   "cell_type": "code",
   "execution_count": 1,
   "metadata": {},
   "outputs": [
    {
     "data": {
      "text/plain": [
       "['a', 'b', 'c']"
      ]
     },
     "execution_count": 1,
     "metadata": {},
     "output_type": "execute_result"
    }
   ],
   "source": [
    "s='abc'\n",
    "\n",
    "s.islower()\n",
    "s.isupper()\n",
    "\n",
    "s.lower()\n",
    "s.upper()\n",
    "s.split()\n",
    "list(s)"
   ]
  },
  {
   "cell_type": "code",
   "execution_count": 4,
   "metadata": {},
   "outputs": [
    {
     "data": {
      "text/plain": [
       "'aBc'"
      ]
     },
     "execution_count": 4,
     "metadata": {},
     "output_type": "execute_result"
    }
   ],
   "source": [
    "#Function to Toggle String characters\n",
    "\n",
    "def toggleString(s):\n",
    "    #Convert the string into a list of chae\n",
    "    s=list(s)\n",
    "    t=[]\n",
    "    for c in s:\n",
    "        if c.islower():\n",
    "            t.append(c.upper())\n",
    "        else:\n",
    "            t.append(c.lower())\n",
    "    return \"\".join(t)\n",
    "\n",
    "toggleString(\"AbC\")"
   ]
  },
  {
   "cell_type": "code",
   "execution_count": 8,
   "metadata": {},
   "outputs": [
    {
     "name": "stdout",
     "output_type": "stream",
     "text": [
      "5 35\n"
     ]
    }
   ],
   "source": [
    "#Duration program\n",
    "\n",
    "# Input: start time, end time (HH MM) HH - {00,23}\n",
    "# Output: time difference in HH MM - {00,59}\n",
    "\n",
    "# Calculate the time difference as total number of mintues\n",
    "# Convert the total minutes into HH MM\n",
    "s=\"2 48 8 23\"\n",
    "def minuteDifference(s):\n",
    "    s=s.split()\n",
    "    start_hour=int(s[0])\n",
    "    start_mit=int(s[1])\n",
    "    end_hour=int(s[2])\n",
    "    end_mit=int(s[3])\n",
    "    \n",
    "    start_minutes=(start_hour * 60) + start_mit\n",
    "    end_minutes=(end_hour * 60) + end_mit\n",
    "    \n",
    "    return end_minutes - start_minutes\n",
    "\n",
    "def outputTimeFormat(minutes):\n",
    "    # Convert minutes to HH MM\n",
    "    hours=minutes // 60\n",
    "    mit=minutes % 60\n",
    "    print(hours,mit)\n",
    "    return\n",
    "#n= int(input())\n",
    "#for i in range(0,n):\n",
    "#    s=input()\n",
    "#    minutes=minuteDiffernce\n",
    "minutes = minuteDifference(s)\n",
    "outputTimeFormat(minutes)\n"
   ]
  },
  {
   "cell_type": "code",
   "execution_count": null,
   "metadata": {},
   "outputs": [],
   "source": [
    "# Problem: Play with numbers\n",
    "\n",
    "# line 1: array size(n), no of quries(q)\n",
    "# line 2: n array elements \n",
    "# next q lines: query-sub array of the origin\n",
    "\n",
    "# 5 2\n",
    "# 1 2 3 4 5\n",
    "# 1 3\n",
    "# 2 4\n",
    "# 2 5"
   ]
  },
  {
   "cell_type": "code",
   "execution_count": 1,
   "metadata": {},
   "outputs": [
    {
     "name": "stdout",
     "output_type": "stream",
     "text": [
      "sa123ral\n",
      "3\n",
      "5\n"
     ]
    }
   ],
   "source": [
    "# Number of digits and Number of letters in a String S\n",
    "def Count(s):\n",
    "    c = 0\n",
    "    a = 0\n",
    "    for i in s:\n",
    "        if (i.isdigit() == True):\n",
    "            c = c + 1\n",
    "            #print(c)\n",
    "        elif (i.isalpha() == True):\n",
    "            a = a + 1\n",
    "            #print(a)\n",
    "    print(c)\n",
    "    print(a)\n",
    "    return\n",
    "s = input()\n",
    "Count(s)"
   ]
  },
  {
   "cell_type": "code",
   "execution_count": 3,
   "metadata": {},
   "outputs": [
    {
     "name": "stdout",
     "output_type": "stream",
     "text": [
      "5\n",
      "NO\n"
     ]
    }
   ],
   "source": [
    "# Sum of its Proper positive divisors\n",
    "def factorsList(n):\n",
    "    sum = 0\n",
    "    for i in range(1, n):\n",
    "        if n % i == 0:\n",
    "            sum += i\n",
    "    if sum == n:\n",
    "        print(\"YES\")\n",
    "    else:\n",
    "        print(\"NO\")\n",
    "    return\n",
    "\n",
    "n = int(input())\n",
    "factorsList(n)"
   ]
  },
  {
   "cell_type": "code",
   "execution_count": 6,
   "metadata": {},
   "outputs": [
    {
     "name": "stdout",
     "output_type": "stream",
     "text": [
      "12\n",
      "2 3 5 7 11 "
     ]
    }
   ],
   "source": [
    "# Prime Factors\n",
    "def Prime(n):\n",
    "    for i in range(2,n+1):\n",
    "        s = 0\n",
    "        for a in range(2, i):\n",
    "            if i % a == 0:\n",
    "                break\n",
    "        else:\n",
    "            print(i, end = \" \")\n",
    "    return\n",
    "\n",
    "n = int(input())\n",
    "Prime(n)"
   ]
  },
  {
   "cell_type": "code",
   "execution_count": 8,
   "metadata": {},
   "outputs": [
    {
     "name": "stdout",
     "output_type": "stream",
     "text": [
      "12\n"
     ]
    },
    {
     "data": {
      "text/plain": [
       "7"
      ]
     },
     "execution_count": 8,
     "metadata": {},
     "output_type": "execute_result"
    }
   ],
   "source": [
    "# Natural number that is smaller than N such that N gives the highest remainder\n",
    "n = int(input())\n",
    "def s(n):\n",
    "    a = []\n",
    "    b = []\n",
    "    for i in range(n,1,-1):\n",
    "        s = n % i\n",
    "        a.append(s)\n",
    "        b.append(i)\n",
    "    return(b[max(a)])\n",
    "s(n)"
   ]
  },
  {
   "cell_type": "code",
   "execution_count": null,
   "metadata": {},
   "outputs": [],
   "source": []
  }
 ],
 "metadata": {
  "kernelspec": {
   "display_name": "Python 3",
   "language": "python",
   "name": "python3"
  },
  "language_info": {
   "codemirror_mode": {
    "name": "ipython",
    "version": 3
   },
   "file_extension": ".py",
   "mimetype": "text/x-python",
   "name": "python",
   "nbconvert_exporter": "python",
   "pygments_lexer": "ipython3",
   "version": "3.7.3"
  }
 },
 "nbformat": 4,
 "nbformat_minor": 2
}
