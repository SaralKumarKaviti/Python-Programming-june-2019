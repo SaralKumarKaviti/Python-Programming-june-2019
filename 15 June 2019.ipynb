{
 "cells": [
  {
   "cell_type": "markdown",
   "metadata": {},
   "source": [
    "## Hackerearth problems"
   ]
  },
  {
   "cell_type": "code",
   "execution_count": null,
   "metadata": {},
   "outputs": [],
   "source": [
    "# Count Divisors\n",
    "def countDivisors(l,r,k):\n",
    "    count=0\n",
    "    for n in range(l,r+1):\n",
    "        if n%k==0:\n",
    "            count=count+1\n",
    "            print(count)\n",
    "            return\n",
    "s=input()\n",
    "s=s.split()\n",
    "l=int(s[0])\n",
    "r=int(s[1])\n",
    "k=int(s[k])\n",
    "        \n",
    "        \n",
    "                "
   ]
  },
  {
   "cell_type": "code",
   "execution_count": null,
   "metadata": {},
   "outputs": [],
   "source": [
    "# Two Strings\n",
    "\n",
    "def string(string1,string2):\n",
    "    s1 = []\n",
    "    s2 = []\n",
    "    for x in string1:\n",
    "        s1.append(x)\n",
    "    for x in string2:\n",
    "        s2.append(x)\n",
    "    s1.sort()\n",
    "    s2.sort()\n",
    "    if s1 == s2:\n",
    "        print(\"YES\")\n",
    "    else:\n",
    "        print(\"NO\")\n",
    "        \n",
    "n = int(input())\n",
    "for x in range(0,n):\n",
    "    str = input()\n",
    "    str = str.split()\n",
    "    string1 = str[0]\n",
    "    string2 = str[1]\n",
    "    string(string1,string2)"
   ]
  },
  {
   "cell_type": "code",
   "execution_count": null,
   "metadata": {},
   "outputs": [],
   "source": [
    "# Char Sum\n",
    "def charsum(s):\n",
    "    sum = 0\n",
    "    for x in s:\n",
    "        sum = sum + ord(x) - 96\n",
    "    print(sum)\n",
    "    \n",
    "s = input()\n",
    "charsum(s)"
   ]
  },
  {
   "cell_type": "code",
   "execution_count": null,
   "metadata": {},
   "outputs": [],
   "source": [
    "# Factorial\n",
    "def Factorial(n):\n",
    "    s = 1\n",
    "    for i in range(1,n + 1):\n",
    "        s = s * i\n",
    "        i = i - 1\n",
    "    print(s)\n",
    "    return\n",
    "n = int(input())\n",
    "Factorial(n)"
   ]
  },
  {
   "cell_type": "code",
   "execution_count": null,
   "metadata": {},
   "outputs": [],
   "source": [
    "# Prime Numbers range \n",
    "def Prime(n):\n",
    "    for i in range(2,n+1):\n",
    "        s = 0\n",
    "        for a in range(2, i//2+1):\n",
    "            if i % a == 0:\n",
    "                s = s + 1\n",
    "        if s <= 0:\n",
    "            print(i)\n",
    "    return\n",
    "\n",
    "n = int(input())\n",
    "Prime(n)"
   ]
  },
  {
   "cell_type": "code",
   "execution_count": null,
   "metadata": {},
   "outputs": [],
   "source": [
    "n = input()\n",
    "#s = s.split()\n",
    "#s = \"\"\n",
    "def ToggleString(n):\n",
    "    s = \"\"\n",
    "    for i in n:\n",
    "        if i.isupper() == True:\n",
    "            s = s + (i.lower())\n",
    "        elif i.islower() == True:\n",
    "            s = s + (i.upper())\n",
    "    print(s)\n",
    "    return\n",
    "\n",
    "ToggleString(n)"
   ]
  },
  {
   "cell_type": "code",
   "execution_count": null,
   "metadata": {},
   "outputs": [],
   "source": [
    "s=\"12334\"\n",
    "s."
   ]
  }
 ],
 "metadata": {
  "kernelspec": {
   "display_name": "Python 3",
   "language": "python",
   "name": "python3"
  },
  "language_info": {
   "codemirror_mode": {
    "name": "ipython",
    "version": 3
   },
   "file_extension": ".py",
   "mimetype": "text/x-python",
   "name": "python",
   "nbconvert_exporter": "python",
   "pygments_lexer": "ipython3",
   "version": "3.7.3"
  }
 },
 "nbformat": 4,
 "nbformat_minor": 2
}
